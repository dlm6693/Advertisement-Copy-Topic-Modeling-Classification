{
 "cells": [
  {
   "cell_type": "markdown",
   "metadata": {},
   "source": [
    "# Webscrape MongoDB Test Notebook"
   ]
  },
  {
   "cell_type": "markdown",
   "metadata": {},
   "source": [
    "## Used to test if data was being stored in database successfully"
   ]
  },
  {
   "cell_type": "code",
   "execution_count": 1,
   "metadata": {},
   "outputs": [],
   "source": [
    "# importing libraries\n",
    "import pymongo\n",
    "from requests import get\n",
    "from bs4 import BeautifulSoup"
   ]
  },
  {
   "cell_type": "code",
   "execution_count": 2,
   "metadata": {},
   "outputs": [],
   "source": [
    "# setting up connection to db\n",
    "client = pymongo.MongoClient('mongodb://127.0.0.1:27017/')\n",
    "db = client.ad_database\n",
    "collection = db.new_ad_collection"
   ]
  },
  {
   "cell_type": "code",
   "execution_count": 42,
   "metadata": {},
   "outputs": [],
   "source": [
    "# appending all records to a list for testing\n",
    "stuff = []\n",
    "for x in collection.find({}):\n",
    "    stuff.append(x)"
   ]
  },
  {
   "cell_type": "code",
   "execution_count": 43,
   "metadata": {},
   "outputs": [
    {
     "data": {
      "text/plain": [
       "146856"
      ]
     },
     "execution_count": 43,
     "metadata": {},
     "output_type": "execute_result"
    }
   ],
   "source": [
    "# checking length\n",
    "len(stuff)"
   ]
  },
  {
   "cell_type": "code",
   "execution_count": 29,
   "metadata": {},
   "outputs": [
    {
     "data": {
      "text/plain": [
       "{'_id': ObjectId('5cf7fdea7f233845b0511367'),\n",
       " 'industry': 'Alcoholic drinks',\n",
       " 'medium': 'Promotion & Event',\n",
       " 'headline': nan,\n",
       " 'description': 'Describe the brief from the client Everyone loves rugby in the Argentine province of Salta; it’s their biggest passion like nowhere else in the country. Salta Beer is the main sponsor of the Rugby Salta Union and is also the beer chosen by the toughest guys of the province.  We needed to launch an environmental awareness campaign that would get our sponsored sportsmen directly involved. But how were we going to convince these heartless men to be part of the project? We create rugby Spikes made of recycled beers. We used this essential sport element to inspire environmental awareness in these nice guys.  Promotion Development We create rugby Spikes made of recycled beers can. A special activation using this essential sport element to raise the environmental awareness of the rugby players and convince them to protect the environment. We developed a new recycling program for the cans of Salta beer drank in third halves and pubs; and we created the Salta Rugby Spikes.  Results • With this campaign, we achieved raising the environmental awareness of the rugby players and made them join our project.  • We recycled over 2.143 beer cans in one month, 200% more than previous month, and produced 1.224 recycled spikes.  • 102 Rugby players using Recycled Salta Spikes.  • We achieved the free co-branding of the biggest sport brands: Nike, Adidas y Asics.  • Now Salta Beer is in every local rugby club, without having signed a single contract.  Relevancy to Product/Service To engaged the rugby players in our project, we needed an approach to convince them to join of our environmental project. So, we created a line of recycled spikes to show the sponsored sportsmen that we can help the planet which at the same time help the rugby. The perfect excuse to protect the environment and bring Salta into the field with the rugby players to play rugby.',\n",
       " 'brand': 'Cerveza Salta',\n",
       " 'url': 'http://www.welovead.com/en/works/details/6dfwnntBm',\n",
       " 'country': 'Argentina',\n",
       " 'img_url': nan}"
      ]
     },
     "execution_count": 29,
     "metadata": {},
     "output_type": "execute_result"
    }
   ],
   "source": [
    "# checking most recent entry\n",
    "stuff[-1]"
   ]
  }
 ],
 "metadata": {
  "kernelspec": {
   "display_name": "Python 3",
   "language": "python",
   "name": "python3"
  },
  "language_info": {
   "codemirror_mode": {
    "name": "ipython",
    "version": 3
   },
   "file_extension": ".py",
   "mimetype": "text/x-python",
   "name": "python",
   "nbconvert_exporter": "python",
   "pygments_lexer": "ipython3",
   "version": "3.7.3"
  }
 },
 "nbformat": 4,
 "nbformat_minor": 2
}
